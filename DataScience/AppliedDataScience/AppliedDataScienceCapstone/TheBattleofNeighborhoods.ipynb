{
 "cells": [
  {
   "cell_type": "markdown",
   "metadata": {},
   "source": [
    "# Introduction"
   ]
  },
  {
   "cell_type": "markdown",
   "metadata": {},
   "source": [
    "### Background"
   ]
  },
  {
   "cell_type": "markdown",
   "metadata": {},
   "source": [
    "As the evolvement of globalization, it becomes more and more common for people to immigrate from country to country. However, even if most people can adapt to a new cultural environment and learn a new language, get used to the weather, most people's preference for food doesn't change much. Probably it's because the food habit established in childhood is so deeply rooted.\n",
    "\n",
    "Even within the same country, different cities of differnt neighborhoods could vary in types of restaurants of both quantity and quality, also, immigrants may consider other factors like weather condition, house price, safety, and cultural diversity. "
   ]
  },
  {
   "cell_type": "markdown",
   "metadata": {},
   "source": [
    "### Idea"
   ]
  },
  {
   "cell_type": "markdown",
   "metadata": {},
   "source": [
    "So how to come up with a measurement of rank among all potential target cities/neighborhoods based on one's preference may be a challenge for a person with limit information. I plan to provide a unique way to calculate the most immigrants friendly neighborhoods of global cities based on several different factors such as venues types, quantity, median house price, median income, saftey, cultural diversity, etc. Calculate scores for several neighborhoods from global cities based on the same measurement criteria, see which neighborhood might be the most immigrants friendly."
   ]
  },
  {
   "cell_type": "markdown",
   "metadata": {},
   "source": [
    "# Data"
   ]
  },
  {
   "cell_type": "markdown",
   "metadata": {},
   "source": [
    "- Foursquare Data to get venus in particular neighborhoods\n",
    "- Weather data: average daylight time, average temperature\n",
    "- House price: median house price\n",
    "- Residents income\n",
    "- Demography\n",
    "- Economic development Data"
   ]
  },
  {
   "cell_type": "code",
   "execution_count": null,
   "metadata": {},
   "outputs": [],
   "source": []
  }
 ],
 "metadata": {
  "kernelspec": {
   "display_name": "Python 3",
   "language": "python",
   "name": "python3"
  },
  "language_info": {
   "codemirror_mode": {
    "name": "ipython",
    "version": 3
   },
   "file_extension": ".py",
   "mimetype": "text/x-python",
   "name": "python",
   "nbconvert_exporter": "python",
   "pygments_lexer": "ipython3",
   "version": "3.6.4"
  }
 },
 "nbformat": 4,
 "nbformat_minor": 4
}
