{
 "cells": [
  {
   "cell_type": "code",
   "execution_count": null,
   "metadata": {},
   "outputs": [],
   "source": [
    "import numpy as np\n",
    "import pandas as pd\n",
    "\n",
    "%matplotlib inline \n",
    "import matplotlib.pyplot as plt"
   ]
  },
  {
   "cell_type": "code",
   "execution_count": null,
   "metadata": {},
   "outputs": [],
   "source": [
    "# s_data=pd.read_csv(\"https://cocl.us/datascience_survey_data\",index_col=0)\n",
    "s_data=pd.read_csv(r\"./data/Topic_Survey_Assignment.csv\", index_col=0)\n",
    "s_data"
   ]
  },
  {
   "cell_type": "code",
   "execution_count": null,
   "metadata": {},
   "outputs": [],
   "source": [
    "data_bk=s_data.copy()\n",
    "sum_data=s_data.sum(axis=1)\n",
    "sum_data"
   ]
  },
  {
   "cell_type": "code",
   "execution_count": null,
   "metadata": {},
   "outputs": [],
   "source": [
    "s_data=data_bk.copy()"
   ]
  },
  {
   "cell_type": "code",
   "execution_count": null,
   "metadata": {
    "scrolled": true
   },
   "outputs": [],
   "source": [
    "s_data.sort_values(by=[\"Very interested\"], ascending=False, inplace=True)\n",
    "s_data=s_data.div(2233).round(2)\n",
    "s_data"
   ]
  },
  {
   "cell_type": "code",
   "execution_count": null,
   "metadata": {},
   "outputs": [],
   "source": [
    "def autolabel(rects, df, fontsize):\n",
    "    for rect, data in zip(rects, df):\n",
    "        ax.text(rect.get_x()+rect.get_width()/2, \n",
    "                rect.get_height(), \n",
    "                str(data), fontdict={'fontsize': fontsize},\n",
    "                ha='center', va='bottom')"
   ]
  },
  {
   "cell_type": "code",
   "execution_count": null,
   "metadata": {},
   "outputs": [],
   "source": [
    "# fig = plt.figure()\n",
    "# ax = fig.add_subpl\n",
    "\n",
    "title=\"Percentage of Respondents' Interest in Data Science Areas\"\n",
    "bar_colors=['#5cb85c','#5bc0de','#d9534f']\n",
    "title_font=16\n",
    "other_font=14\n",
    "\n",
    "ax = s_data.plot(kind='bar', \n",
    "                 figsize=(20,8), \n",
    "                 width=0.8, \n",
    "                 color=bar_colors)\n",
    "\n",
    "# Title, legend xticklabels size\n",
    "ax.set_title(title, fontdict={'fontsize':title_font})\n",
    "ax.legend(fontsize=other_font)\n",
    "ax.set_xticklabels(s_data.index.values, fontdict={'fontsize':other_font})\n",
    "\n",
    "# get all patches from axes\n",
    "bars=ax.patches \n",
    "# flatten dataframe to list\n",
    "s_data_list = s_data.values.flatten(order='F').tolist()\n",
    "\n",
    "autolabel(bars, s_data_list, other_font)\n",
    "\n",
    "# get rid of borders\n",
    "ax.spines['top'].set_visible(False)\n",
    "ax.spines['right'].set_visible(False)\n",
    "ax.spines['left'].set_visible(False)\n",
    "\n",
    "# off left tick and ticklabels\n",
    "ax.tick_params(axis='y',left=False,labelleft=False)"
   ]
  },
  {
   "cell_type": "code",
   "execution_count": null,
   "metadata": {},
   "outputs": [],
   "source": [
    "# print(len(bars))\n",
    "# print(len(s_data.values))\n",
    "# print(type(s_data.values.flatten()))\n"
   ]
  },
  {
   "cell_type": "code",
   "execution_count": null,
   "metadata": {},
   "outputs": [],
   "source": [
    "# df_crime=pd.read_csv(\"https://cocl.us/sanfran_crime_dataset\")\n",
    "df_crime=pd.read_csv(\"./data/Police_Department_Incidents_-_Previous_Year__2016_.csv\")"
   ]
  },
  {
   "cell_type": "code",
   "execution_count": null,
   "metadata": {},
   "outputs": [],
   "source": [
    "df_count=pd.DataFrame(df_crime.groupby('PdDistrict').count().iloc[:,0])\n",
    "df_count"
   ]
  },
  {
   "cell_type": "code",
   "execution_count": null,
   "metadata": {},
   "outputs": [],
   "source": [
    "df_count.reset_index(inplace=True)\n",
    "df_count.columns=['Neighborhood', 'Count']"
   ]
  },
  {
   "cell_type": "code",
   "execution_count": null,
   "metadata": {},
   "outputs": [],
   "source": [
    "df_count.sort_index(inplace=True)\n",
    "df_count"
   ]
  },
  {
   "cell_type": "code",
   "execution_count": null,
   "metadata": {},
   "outputs": [],
   "source": [
    "import folium"
   ]
  },
  {
   "cell_type": "code",
   "execution_count": null,
   "metadata": {},
   "outputs": [],
   "source": [
    "# San Francisco latitude and longitude values\n",
    "latitude = 37.77\n",
    "longitude = -122.42\n",
    "sf_geo= f'./data/san-francisco.geojson'"
   ]
  },
  {
   "cell_type": "code",
   "execution_count": null,
   "metadata": {},
   "outputs": [],
   "source": [
    "sf_map=folium.Map(location=[latitude, longitude], zoom_start=12)"
   ]
  },
  {
   "cell_type": "code",
   "execution_count": null,
   "metadata": {},
   "outputs": [],
   "source": [
    "folium.Choropleth(\n",
    "    geo_data=sf_geo,\n",
    "    name='chroropleth',\n",
    "    data=df_count,\n",
    "    key_on='feature.properties.DISTRICT',\n",
    "    fill_color='YlOrRd',\n",
    "    columns=['Neighborhood', 'Count'],\n",
    "    fill_opacity=0.7,\n",
    "    line_opacity=0.2,\n",
    "    legend_name='Crime Rate in San Francisco'\n",
    ").add_to(sf_map)\n",
    "\n",
    "sf_map"
   ]
  },
  {
   "cell_type": "code",
   "execution_count": null,
   "metadata": {},
   "outputs": [],
   "source": []
  }
 ],
 "metadata": {
  "kernelspec": {
   "display_name": "Python 3",
   "language": "python",
   "name": "python3"
  },
  "language_info": {
   "codemirror_mode": {
    "name": "ipython",
    "version": 3
   },
   "file_extension": ".py",
   "mimetype": "text/x-python",
   "name": "python",
   "nbconvert_exporter": "python",
   "pygments_lexer": "ipython3",
   "version": "3.6.4"
  }
 },
 "nbformat": 4,
 "nbformat_minor": 2
}
